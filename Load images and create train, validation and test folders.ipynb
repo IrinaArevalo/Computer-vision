{
 "cells": [
  {
   "cell_type": "code",
   "execution_count": 1,
   "metadata": {},
   "outputs": [],
   "source": [
    "import os\n",
    "import random\n",
    "import shutil"
   ]
  },
  {
   "cell_type": "code",
   "execution_count": 2,
   "metadata": {},
   "outputs": [],
   "source": [
    "def list_files(base_path):\n",
    "    # loop over the directory structure\n",
    "    for (rootDir, dirNames, filenames) in os.walk(base_path):\n",
    "        # loop over the filenames in the current directory\n",
    "        for filename in filenames:\n",
    "            \n",
    "            #check that the file is a png image\n",
    "            ext = filename[filename.rfind(\".\"):].lower()\n",
    "            if ext.endswith('.png'):\n",
    "                image_path = os.path.join(rootDir, filename)\n",
    "                yield image_path"
   ]
  },
  {
   "cell_type": "code",
   "execution_count": 3,
   "metadata": {},
   "outputs": [
    {
     "name": "stdout",
     "output_type": "stream",
     "text": [
      "['cell_images/Parasitized/C118P79ThinF_IMG_20151002_105018_cell_150.png', 'cell_images/Parasitized/C189P150ThinF_IMG_20151203_142224_cell_84.png', 'cell_images/Parasitized/C91P52ThinF_IMG_20150821_123116_cell_189.png', 'cell_images/Parasitized/C84P45ThinF_IMG_20150818_101226_cell_98.png', 'cell_images/Parasitized/C144P105ThinF_IMG_20151015_163432_cell_310.png', 'cell_images/Parasitized/C136P97ThinF_IMG_20151005_141803_cell_131.png', 'cell_images/Parasitized/C65P26N_ThinF_IMG_20150818_154050_cell_177.png', 'cell_images/Parasitized/C60P21thinF_IMG_20150804_105034_cell_105.png', 'cell_images/Parasitized/C109P70ThinF_IMG_20150930_103811_cell_159.png', 'cell_images/Parasitized/C176P137NThinF_IMG_20151201_122708_cell_126.png']\n"
     ]
    }
   ],
   "source": [
    "image_paths = list(list_files('cell_images/'))\n",
    "print(image_paths[:10])"
   ]
  },
  {
   "cell_type": "code",
   "execution_count": 4,
   "metadata": {},
   "outputs": [],
   "source": [
    "random.seed(123)\n",
    "random.shuffle(image_paths)"
   ]
  },
  {
   "cell_type": "code",
   "execution_count": 5,
   "metadata": {},
   "outputs": [],
   "source": [
    "# compute the training and testing split\n",
    "i = int(len(image_paths) * 0.8)\n",
    "train_paths = image_paths[:i]\n",
    "test_paths = image_paths[i:]\n",
    " \n",
    "# we'll be using part of the training data for validation\n",
    "i = int(len(train_paths) * 0.1)\n",
    "val_paths = train_paths[:i]\n",
    "train_paths = train_paths[i:]"
   ]
  },
  {
   "cell_type": "code",
   "execution_count": 6,
   "metadata": {},
   "outputs": [],
   "source": [
    "datasets = [\n",
    "    (\"training\", train_paths, 'cell_images/training'),\n",
    "    (\"validation\", val_paths, 'cell_images/validation'), \n",
    "    (\"testing\", test_paths, 'cell_images/testing')\n",
    "]"
   ]
  },
  {
   "cell_type": "code",
   "execution_count": 7,
   "metadata": {},
   "outputs": [
    {
     "name": "stdout",
     "output_type": "stream",
     "text": [
      "Building 'training' split\n",
      "Creating cell_images/training' directory\n",
      "Creating cell_images/training/Parasitized' directory\n",
      "Creating cell_images/training/Uninfected' directory\n",
      "Building 'validation' split\n",
      "Creating cell_images/validation' directory\n",
      "Creating cell_images/validation/Uninfected' directory\n",
      "Creating cell_images/validation/Parasitized' directory\n",
      "Building 'testing' split\n",
      "Creating cell_images/testing' directory\n",
      "Creating cell_images/testing/Uninfected' directory\n",
      "Creating cell_images/testing/Parasitized' directory\n"
     ]
    }
   ],
   "source": [
    "# loop over the datasets\n",
    "for (dataset, image_paths, dataset_dir) in datasets:\n",
    "    # show which data split we are creating\n",
    "    print(\"Building '{}' split\".format(dataset))\n",
    "\n",
    "    # if the output base output directory does not exist, create it\n",
    "    if not os.path.exists(dataset_dir):\n",
    "        print(\"Creating {}' directory\".format(dataset_dir))\n",
    "        os.makedirs(dataset_dir)\n",
    "\n",
    "    # loop over the input image paths\n",
    "    for inputPath in image_paths:\n",
    "        # extract the filename of the input image along with its\n",
    "        # corresponding class label\n",
    "        filename = inputPath.split(os.path.sep)[-1]\n",
    "        label = inputPath.split(os.path.sep)[-2]\n",
    "\n",
    "        # build the path to the label directory\n",
    "        label_path = os.path.sep.join([dataset_dir, label])\n",
    "\n",
    "        # if the label output directory does not exist, create it\n",
    "        if not os.path.exists(label_path):\n",
    "            print(\"Creating {}' directory\".format(label_path))\n",
    "            os.makedirs(label_path)\n",
    "\n",
    "        # construct the path to the destination image and then copy\n",
    "        # the image itself\n",
    "        p = os.path.sep.join([label_path, filename])\n",
    "        shutil.copy2(inputPath, p)"
   ]
  },
  {
   "cell_type": "code",
   "execution_count": null,
   "metadata": {},
   "outputs": [],
   "source": []
  }
 ],
 "metadata": {
  "kernelspec": {
   "display_name": "Python 3",
   "language": "python",
   "name": "python3"
  },
  "language_info": {
   "codemirror_mode": {
    "name": "ipython",
    "version": 3
   },
   "file_extension": ".py",
   "mimetype": "text/x-python",
   "name": "python",
   "nbconvert_exporter": "python",
   "pygments_lexer": "ipython3",
   "version": "3.6.4"
  }
 },
 "nbformat": 4,
 "nbformat_minor": 2
}
